{
 "cells": [
  {
   "cell_type": "code",
   "execution_count": 3,
   "id": "e9317548-751c-47aa-a61d-09a5318fa2ad",
   "metadata": {},
   "outputs": [],
   "source": [
    "#Question 1\n",
    "#Statistics is the Science of collecting , organizing and analyzing data."
   ]
  },
  {
   "cell_type": "code",
   "execution_count": 4,
   "id": "38efa156-677c-470d-a262-13c92cac4f42",
   "metadata": {},
   "outputs": [],
   "source": [
    "#Question 2\n",
    "#there are mainly two type of statics \n",
    "#1->Descriptive Statistics  it consists of organizing and summazing the data.\n",
    "    # for example = mean, mode , median , histrogram\n",
    "#2-inferential Statistics-> it consists of using data you have measured to form conlusion.\n",
    "  #for example-> z-test, p-test"
   ]
  },
  {
   "cell_type": "code",
   "execution_count": 6,
   "id": "6c2ee17a-5459-41bc-98ab-48a96f0fa25d",
   "metadata": {},
   "outputs": [],
   "source": [
    "#Question 3\n",
    "# Data can be classified into four main types: nominal, ordinal, interval, and ratio. Each type has distinct characteristics:\n",
    "\n",
    "# Nominal Data:\n",
    "# Definition: Categorical data without any order or ranking.\n",
    "# Example: Types of fruit (apple, banana, cherry).\n",
    "\n",
    "# Ordinal Data:\n",
    "# Definition: Categorical data with a meaningful order or ranking, but the intervals between values are not consistent.\n",
    "# Example: Movie ratings (poor, fair, good, excellent).\n",
    "\n",
    "# continuous Data:\n",
    "# Definition: Numerical data with ordered categories where the intervals between values are consistent, but there is no true zero point.\n",
    "# Example: Temperature in Celsius (10°C, 20°C, 30°C).\n",
    "\n",
    "# Discreate Data:\n",
    "# Definition: Numerical data with ordered categories, consistent intervals, and a true zero point.\n",
    "# Example: Weight (0 kg, 10 kg, 20 kg).\n",
    "# These data types differ in their levels of measurement, which determine the types of statistical analyses that can be perform"
   ]
  },
  {
   "cell_type": "code",
   "execution_count": 7,
   "id": "4a0fc6c3-3a68-48d4-bdce-70f28ce875fc",
   "metadata": {},
   "outputs": [],
   "source": [
    "# #Question 4\n",
    "# Grading in exam: A+, A, B+, B, C+, C, D, E\n",
    "\n",
    "# Qualitative (Ordinal)\n",
    "# Colour of mangoes: yellow, green, orange, red\n",
    "\n",
    "# Qualitative (Nominal)\n",
    "# Height data of a class: [178.9, 179, 179.5, 176, 177.2, 178.3, 175.8,...]\n",
    "\n",
    "# Quantitative (Continuous)\n",
    "# Number of mangoes exported by a farm: [500, 600, 478, 672, ...]\n",
    "\n",
    "# # Quantitative (Discrete)"
   ]
  },
  {
   "cell_type": "code",
   "execution_count": 9,
   "id": "a4614cde-b943-48ad-aacc-2f771bfe7120",
   "metadata": {},
   "outputs": [],
   "source": [
    "#Question 5\n",
    "\n",
    "# Nominal Data:\n",
    "# Definition: Categorical data without any order or ranking.\n",
    "# Example: Types of fruit (apple, banana, cherry).\n",
    "\n",
    "# Ordinal Data:\n",
    "# Definition: Categorical data with a meaningful order or ranking, but the intervals between values are not consistent.\n",
    "# Example: Movie ratings (poor, fair, good, excellent).\n",
    "\n",
    "# continuous Data:\n",
    "# Definition: Numerical data with ordered categories where the intervals between values are consistent, but there is no true zero point.\n",
    "# Example: Temperature in Celsius (10°C, 20°C, 30°C).\n",
    "\n",
    "# Discreate Data:\n",
    "# Definition: Numerical data with ordered categories, consistent intervals, and a true zero point.\n",
    "# Example: Weight (0 kg, 10 kg, 20 kg).\n",
    "# These data types differ in their levels of measurement, which determine the types of statistical analyses that can be perform"
   ]
  },
  {
   "cell_type": "code",
   "execution_count": 10,
   "id": "7411e752-ad11-48f1-aaf5-7d252c5718d7",
   "metadata": {},
   "outputs": [],
   "source": [
    "# #Question 6\n",
    "# Understanding the level of measurement is important because it determines which statistical methods are appropriate and ensures accurate analysis. Using incorrect methods can lead to invalid conclusions.\n",
    "\n",
    "# ### Example:\n",
    "\n",
    "# -Ordinal Data: For customer satisfaction levels (e.g., \"very dissatisfied\" to \"very satisfied\"), use the median or mode, not the mean, because the intervals between levels are not consistent.\n",
    "# - Discreate Data: For customer age, you can calculate the mean and perform regression analysis, as the data has consistent intervals and a true zero point.\n",
    "\n",
    "# Correctly identifying the level of measurement helps in choosing suitable analysis techniques and obtaining reliable results."
   ]
  },
  {
   "cell_type": "code",
   "execution_count": 11,
   "id": "c00985ec-c13a-4a9b-843a-69174bf11d49",
   "metadata": {},
   "outputs": [],
   "source": [
    "# Question 7\n",
    "# Nominal data categorizes items without any order, while ordinal data categorizes items with a meaningful order.\n",
    "\n",
    "# Example:\n",
    "\n",
    "# - Nominal Data: Types of fruit (apple, banana, cherry)\n",
    "# - Ordinal Data: Movie ratings (poor, fair, good, excellent)"
   ]
  },
  {
   "cell_type": "code",
   "execution_count": 12,
   "id": "86a5ef85-cacd-4917-a73b-2722e501f34d",
   "metadata": {},
   "outputs": [],
   "source": [
    "# Question 8\n",
    "# A box plot (box-and-whisker plot) can display data in terms of range, showing the minimum, first quartile, \n",
    "# median, third quartile, and maximum values, effectively visualizing the data distribution."
   ]
  },
  {
   "cell_type": "code",
   "execution_count": 13,
   "id": "3d0ce209-b351-49cd-91f4-928a638f9f4e",
   "metadata": {},
   "outputs": [],
   "source": [
    "# Question 9\n",
    "# Definition: Makes predictions or inferences about a population based on a sample of data.\n",
    "# Example: Conducting a hypothesis test to determine if a new drug is effective.\n",
    "# Usage: Uses sample data to make generalizations and draw conclusions about a larger population."
   ]
  },
  {
   "cell_type": "code",
   "execution_count": 14,
   "id": "464c6aa2-67b5-4036-882d-d51e302361d1",
   "metadata": {},
   "outputs": [],
   "source": [
    "# Question 9\n",
    "\n",
    "# Measures of Central Tendency:\n",
    "# Mean:\n",
    "\n",
    "# Description: The average of all data points.\n",
    "# Usage: Provides a central value representing the dataset.\n",
    "# Median:\n",
    "\n",
    "# Description: The middle value when data points are ordered.\n",
    "# Usage: Indicates the central value, especially useful for skewed distributions.\n",
    "# Mode:\n",
    "\n",
    "# Description: The most frequently occurring value.\n",
    "# Usage: Identifies the most common value in the dataset.\n",
    "# Measures of Variability:\n",
    "# Range:\n",
    "\n",
    "# Description: The difference between the maximum and minimum values.\n",
    "# Usage: Provides a simple measure of data spread.\n",
    "# Variance:\n",
    "\n",
    "# Description: The average squared deviation from the mean.\n",
    "# Usage: Indicates how much the data points vary from the mean. \n",
    "# Standard Deviation:\n",
    "\n",
    "# Description: The square root of the variance.\n",
    "# Usage: Measures the average distance of data points from the mean, indicating data spread."
   ]
  },
  {
   "cell_type": "code",
   "execution_count": null,
   "id": "1c619fc3-895f-4049-8f60-2f205ebca6a3",
   "metadata": {},
   "outputs": [],
   "source": []
  }
 ],
 "metadata": {
  "kernelspec": {
   "display_name": "Python 3 (ipykernel)",
   "language": "python",
   "name": "python3"
  },
  "language_info": {
   "codemirror_mode": {
    "name": "ipython",
    "version": 3
   },
   "file_extension": ".py",
   "mimetype": "text/x-python",
   "name": "python",
   "nbconvert_exporter": "python",
   "pygments_lexer": "ipython3",
   "version": "3.11.4"
  }
 },
 "nbformat": 4,
 "nbformat_minor": 5
}
